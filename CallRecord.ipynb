{
 "cells": [
  {
   "cell_type": "code",
   "execution_count": 1,
   "metadata": {},
   "outputs": [],
   "source": [
    "%matplotlib inline\n",
    "import csv\n",
    "import pandas as pd\n",
    "import numpy\n",
    "import datetime"
   ]
  },
  {
   "cell_type": "code",
   "execution_count": 2,
   "metadata": {},
   "outputs": [
    {
     "data": {
      "text/plain": [
       "(9948, 13)"
      ]
     },
     "execution_count": 2,
     "metadata": {},
     "output_type": "execute_result"
    }
   ],
   "source": [
    "S20 = pd.read_csv('S20_CDR.csv')\n",
    "S20.shape"
   ]
  },
  {
   "cell_type": "code",
   "execution_count": 3,
   "metadata": {},
   "outputs": [
    {
     "data": {
      "text/html": [
       "<div>\n",
       "<style scoped>\n",
       "    .dataframe tbody tr th:only-of-type {\n",
       "        vertical-align: middle;\n",
       "    }\n",
       "\n",
       "    .dataframe tbody tr th {\n",
       "        vertical-align: top;\n",
       "    }\n",
       "\n",
       "    .dataframe thead th {\n",
       "        text-align: right;\n",
       "    }\n",
       "</style>\n",
       "<table border=\"1\" class=\"dataframe\">\n",
       "  <thead>\n",
       "    <tr style=\"text-align: right;\">\n",
       "      <th></th>\n",
       "      <th>Time</th>\n",
       "      <th>Caller Name</th>\n",
       "      <th>Caller Number</th>\n",
       "      <th>Callee Name</th>\n",
       "      <th>Callee Number</th>\n",
       "      <th>DOD</th>\n",
       "      <th>DID</th>\n",
       "      <th>Call Duration (s)</th>\n",
       "      <th>Talk Duration (s)</th>\n",
       "      <th>Status</th>\n",
       "      <th>Source Trunk</th>\n",
       "      <th>Destination Trunk</th>\n",
       "      <th>Communication Type</th>\n",
       "    </tr>\n",
       "  </thead>\n",
       "  <tbody>\n",
       "    <tr>\n",
       "      <th>0</th>\n",
       "      <td>2018-12-05 18:49:00</td>\n",
       "      <td>NaN</td>\n",
       "      <td>JiufenME0982704558</td>\n",
       "      <td>NaN</td>\n",
       "      <td>677000(from 33)</td>\n",
       "      <td>NaN</td>\n",
       "      <td>NaN</td>\n",
       "      <td>7</td>\n",
       "      <td>6</td>\n",
       "      <td>ANSWERED</td>\n",
       "      <td>聽山560</td>\n",
       "      <td>3CX</td>\n",
       "      <td>Inbound</td>\n",
       "    </tr>\n",
       "    <tr>\n",
       "      <th>1</th>\n",
       "      <td>2018-12-05 18:10:59</td>\n",
       "      <td>NaN</td>\n",
       "      <td>JiufenME0955606770</td>\n",
       "      <td>聽山</td>\n",
       "      <td>990224966027</td>\n",
       "      <td>NaN</td>\n",
       "      <td>NaN</td>\n",
       "      <td>48</td>\n",
       "      <td>34</td>\n",
       "      <td>ANSWERED</td>\n",
       "      <td>聽山560</td>\n",
       "      <td>聽山560</td>\n",
       "      <td>Outbound</td>\n",
       "    </tr>\n",
       "    <tr>\n",
       "      <th>2</th>\n",
       "      <td>2018-12-05 17:53:31</td>\n",
       "      <td>NaN</td>\n",
       "      <td>Hamoana0908198520</td>\n",
       "      <td>NaN</td>\n",
       "      <td>677000(from 33)</td>\n",
       "      <td>NaN</td>\n",
       "      <td>NaN</td>\n",
       "      <td>67</td>\n",
       "      <td>67</td>\n",
       "      <td>ANSWERED</td>\n",
       "      <td>星空帳篷532530</td>\n",
       "      <td>3CX</td>\n",
       "      <td>Inbound</td>\n",
       "    </tr>\n",
       "    <tr>\n",
       "      <th>3</th>\n",
       "      <td>2018-12-05 17:52:00</td>\n",
       "      <td>NaN</td>\n",
       "      <td>Hamoana0908198520</td>\n",
       "      <td>NaN</td>\n",
       "      <td>677000(from 33)</td>\n",
       "      <td>NaN</td>\n",
       "      <td>NaN</td>\n",
       "      <td>2</td>\n",
       "      <td>1</td>\n",
       "      <td>ANSWERED</td>\n",
       "      <td>星空帳篷532530</td>\n",
       "      <td>3CX</td>\n",
       "      <td>Inbound</td>\n",
       "    </tr>\n",
       "    <tr>\n",
       "      <th>4</th>\n",
       "      <td>2018-12-05 17:46:45</td>\n",
       "      <td>NaN</td>\n",
       "      <td>JiufenME0932862803</td>\n",
       "      <td>NaN</td>\n",
       "      <td>6591</td>\n",
       "      <td>NaN</td>\n",
       "      <td>NaN</td>\n",
       "      <td>9</td>\n",
       "      <td>9</td>\n",
       "      <td>ANSWERED</td>\n",
       "      <td>聽山560</td>\n",
       "      <td>NaN</td>\n",
       "      <td>Inbound</td>\n",
       "    </tr>\n",
       "  </tbody>\n",
       "</table>\n",
       "</div>"
      ],
      "text/plain": [
       "                  Time Caller Name       Caller Number Callee Name  \\\n",
       "0  2018-12-05 18:49:00         NaN  JiufenME0982704558         NaN   \n",
       "1  2018-12-05 18:10:59         NaN  JiufenME0955606770          聽山   \n",
       "2  2018-12-05 17:53:31         NaN   Hamoana0908198520         NaN   \n",
       "3  2018-12-05 17:52:00         NaN   Hamoana0908198520         NaN   \n",
       "4  2018-12-05 17:46:45         NaN  JiufenME0932862803         NaN   \n",
       "\n",
       "     Callee Number  DOD  DID  Call Duration (s)  Talk Duration (s)    Status  \\\n",
       "0  677000(from 33)  NaN  NaN                  7                  6  ANSWERED   \n",
       "1     990224966027  NaN  NaN                 48                 34  ANSWERED   \n",
       "2  677000(from 33)  NaN  NaN                 67                 67  ANSWERED   \n",
       "3  677000(from 33)  NaN  NaN                  2                  1  ANSWERED   \n",
       "4             6591  NaN  NaN                  9                  9  ANSWERED   \n",
       "\n",
       "  Source Trunk Destination Trunk Communication Type  \n",
       "0        聽山560               3CX            Inbound  \n",
       "1        聽山560             聽山560           Outbound  \n",
       "2   星空帳篷532530               3CX            Inbound  \n",
       "3   星空帳篷532530               3CX            Inbound  \n",
       "4        聽山560               NaN            Inbound  "
      ]
     },
     "execution_count": 3,
     "metadata": {},
     "output_type": "execute_result"
    }
   ],
   "source": [
    "S20.head()"
   ]
  },
  {
   "cell_type": "code",
   "execution_count": 4,
   "metadata": {},
   "outputs": [],
   "source": [
    "S20_=S20.drop_duplicates(['Caller Number'],inplace=False)"
   ]
  },
  {
   "cell_type": "code",
   "execution_count": 5,
   "metadata": {},
   "outputs": [
    {
     "data": {
      "text/plain": [
       "(3710, 13)"
      ]
     },
     "execution_count": 5,
     "metadata": {},
     "output_type": "execute_result"
    }
   ],
   "source": [
    "S20_.shape"
   ]
  }
 ],
 "metadata": {
  "kernelspec": {
   "display_name": "Python 3",
   "language": "python",
   "name": "python3"
  },
  "language_info": {
   "codemirror_mode": {
    "name": "ipython",
    "version": 3
   },
   "file_extension": ".py",
   "mimetype": "text/x-python",
   "name": "python",
   "nbconvert_exporter": "python",
   "pygments_lexer": "ipython3",
   "version": "3.6.4"
  }
 },
 "nbformat": 4,
 "nbformat_minor": 2
}
